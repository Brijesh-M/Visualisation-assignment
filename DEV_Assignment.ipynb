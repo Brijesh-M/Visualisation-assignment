{
  "nbformat": 4,
  "nbformat_minor": 0,
  "metadata": {
    "colab": {
      "provenance": [],
      "collapsed_sections": []
    },
    "kernelspec": {
      "name": "python3",
      "display_name": "Python 3"
    },
    "language_info": {
      "name": "python"
    }
  },
  "cells": [
    {
      "cell_type": "markdown",
      "source": [
        "**DEV ASSIGNMENT-Brijesh.M**\n"
      ],
      "metadata": {
        "id": "GC4kjvcShe6-"
      }
    },
    {
      "cell_type": "code",
      "execution_count": 2,
      "metadata": {
        "id": "vE7Su0ABvy_U"
      },
      "outputs": [],
      "source": [
        "import numpy as np\n",
        "import pandas as pd\n",
        "import matplotlib.pyplot as plt"
      ]
    },
    {
      "cell_type": "code",
      "source": [
        "df = pd.read_csv('International_Report_Departures.csv')"
      ],
      "metadata": {
        "id": "Vg0JIMiWxOI3"
      },
      "execution_count": 3,
      "outputs": []
    },
    {
      "cell_type": "code",
      "source": [
        "df.head()"
      ],
      "metadata": {
        "colab": {
          "base_uri": "https://localhost:8080/",
          "height": 206
        },
        "id": "KBb8MFZBxbZ0",
        "outputId": "a53410e3-e121-4556-8f76-1a1082b5f95e"
      },
      "execution_count": 4,
      "outputs": [
        {
          "output_type": "execute_result",
          "data": {
            "text/plain": [
              "     data_dte  Year  Month  usg_apt_id usg_apt  usg_wac  fg_apt_id fg_apt  \\\n",
              "0  05/01/2006  2006    5.0     12016.0     GUM      5.0    13162.0    MAJ   \n",
              "1  05/01/2003  2003    5.0     10299.0     ANC      1.0    13856.0    OKO   \n",
              "2  03/01/2007  2007    3.0     10721.0     BOS     13.0    12651.0    KEF   \n",
              "3  12/01/2004  2004   12.0     11259.0     DAL     74.0    16271.0    YYZ   \n",
              "4  05/01/2009  2009    5.0     13303.0     MIA     33.0    11075.0    CMW   \n",
              "\n",
              "   fg_wac  airlineid carrier  carriergroup        type  Scheduled  Charter  \\\n",
              "0   844.0    20177.0     PFQ           1.0  Departures        0.0     10.0   \n",
              "1   736.0    20007.0      5Y           1.0  Departures        0.0     15.0   \n",
              "2   439.0    20402.0      GL           1.0  Departures        0.0      1.0   \n",
              "3   936.0    20201.0     AMQ           1.0  Departures        0.0      1.0   \n",
              "4   219.0    21323.0      5L           0.0  Departures        0.0     20.0   \n",
              "\n",
              "   Total  \n",
              "0   10.0  \n",
              "1   15.0  \n",
              "2    1.0  \n",
              "3    1.0  \n",
              "4   20.0  "
            ],
            "text/html": [
              "\n",
              "  <div id=\"df-34890fe8-3117-4e62-b760-fbfb928c0756\">\n",
              "    <div class=\"colab-df-container\">\n",
              "      <div>\n",
              "<style scoped>\n",
              "    .dataframe tbody tr th:only-of-type {\n",
              "        vertical-align: middle;\n",
              "    }\n",
              "\n",
              "    .dataframe tbody tr th {\n",
              "        vertical-align: top;\n",
              "    }\n",
              "\n",
              "    .dataframe thead th {\n",
              "        text-align: right;\n",
              "    }\n",
              "</style>\n",
              "<table border=\"1\" class=\"dataframe\">\n",
              "  <thead>\n",
              "    <tr style=\"text-align: right;\">\n",
              "      <th></th>\n",
              "      <th>data_dte</th>\n",
              "      <th>Year</th>\n",
              "      <th>Month</th>\n",
              "      <th>usg_apt_id</th>\n",
              "      <th>usg_apt</th>\n",
              "      <th>usg_wac</th>\n",
              "      <th>fg_apt_id</th>\n",
              "      <th>fg_apt</th>\n",
              "      <th>fg_wac</th>\n",
              "      <th>airlineid</th>\n",
              "      <th>carrier</th>\n",
              "      <th>carriergroup</th>\n",
              "      <th>type</th>\n",
              "      <th>Scheduled</th>\n",
              "      <th>Charter</th>\n",
              "      <th>Total</th>\n",
              "    </tr>\n",
              "  </thead>\n",
              "  <tbody>\n",
              "    <tr>\n",
              "      <th>0</th>\n",
              "      <td>05/01/2006</td>\n",
              "      <td>2006</td>\n",
              "      <td>5.0</td>\n",
              "      <td>12016.0</td>\n",
              "      <td>GUM</td>\n",
              "      <td>5.0</td>\n",
              "      <td>13162.0</td>\n",
              "      <td>MAJ</td>\n",
              "      <td>844.0</td>\n",
              "      <td>20177.0</td>\n",
              "      <td>PFQ</td>\n",
              "      <td>1.0</td>\n",
              "      <td>Departures</td>\n",
              "      <td>0.0</td>\n",
              "      <td>10.0</td>\n",
              "      <td>10.0</td>\n",
              "    </tr>\n",
              "    <tr>\n",
              "      <th>1</th>\n",
              "      <td>05/01/2003</td>\n",
              "      <td>2003</td>\n",
              "      <td>5.0</td>\n",
              "      <td>10299.0</td>\n",
              "      <td>ANC</td>\n",
              "      <td>1.0</td>\n",
              "      <td>13856.0</td>\n",
              "      <td>OKO</td>\n",
              "      <td>736.0</td>\n",
              "      <td>20007.0</td>\n",
              "      <td>5Y</td>\n",
              "      <td>1.0</td>\n",
              "      <td>Departures</td>\n",
              "      <td>0.0</td>\n",
              "      <td>15.0</td>\n",
              "      <td>15.0</td>\n",
              "    </tr>\n",
              "    <tr>\n",
              "      <th>2</th>\n",
              "      <td>03/01/2007</td>\n",
              "      <td>2007</td>\n",
              "      <td>3.0</td>\n",
              "      <td>10721.0</td>\n",
              "      <td>BOS</td>\n",
              "      <td>13.0</td>\n",
              "      <td>12651.0</td>\n",
              "      <td>KEF</td>\n",
              "      <td>439.0</td>\n",
              "      <td>20402.0</td>\n",
              "      <td>GL</td>\n",
              "      <td>1.0</td>\n",
              "      <td>Departures</td>\n",
              "      <td>0.0</td>\n",
              "      <td>1.0</td>\n",
              "      <td>1.0</td>\n",
              "    </tr>\n",
              "    <tr>\n",
              "      <th>3</th>\n",
              "      <td>12/01/2004</td>\n",
              "      <td>2004</td>\n",
              "      <td>12.0</td>\n",
              "      <td>11259.0</td>\n",
              "      <td>DAL</td>\n",
              "      <td>74.0</td>\n",
              "      <td>16271.0</td>\n",
              "      <td>YYZ</td>\n",
              "      <td>936.0</td>\n",
              "      <td>20201.0</td>\n",
              "      <td>AMQ</td>\n",
              "      <td>1.0</td>\n",
              "      <td>Departures</td>\n",
              "      <td>0.0</td>\n",
              "      <td>1.0</td>\n",
              "      <td>1.0</td>\n",
              "    </tr>\n",
              "    <tr>\n",
              "      <th>4</th>\n",
              "      <td>05/01/2009</td>\n",
              "      <td>2009</td>\n",
              "      <td>5.0</td>\n",
              "      <td>13303.0</td>\n",
              "      <td>MIA</td>\n",
              "      <td>33.0</td>\n",
              "      <td>11075.0</td>\n",
              "      <td>CMW</td>\n",
              "      <td>219.0</td>\n",
              "      <td>21323.0</td>\n",
              "      <td>5L</td>\n",
              "      <td>0.0</td>\n",
              "      <td>Departures</td>\n",
              "      <td>0.0</td>\n",
              "      <td>20.0</td>\n",
              "      <td>20.0</td>\n",
              "    </tr>\n",
              "  </tbody>\n",
              "</table>\n",
              "</div>\n",
              "      <button class=\"colab-df-convert\" onclick=\"convertToInteractive('df-34890fe8-3117-4e62-b760-fbfb928c0756')\"\n",
              "              title=\"Convert this dataframe to an interactive table.\"\n",
              "              style=\"display:none;\">\n",
              "        \n",
              "  <svg xmlns=\"http://www.w3.org/2000/svg\" height=\"24px\"viewBox=\"0 0 24 24\"\n",
              "       width=\"24px\">\n",
              "    <path d=\"M0 0h24v24H0V0z\" fill=\"none\"/>\n",
              "    <path d=\"M18.56 5.44l.94 2.06.94-2.06 2.06-.94-2.06-.94-.94-2.06-.94 2.06-2.06.94zm-11 1L8.5 8.5l.94-2.06 2.06-.94-2.06-.94L8.5 2.5l-.94 2.06-2.06.94zm10 10l.94 2.06.94-2.06 2.06-.94-2.06-.94-.94-2.06-.94 2.06-2.06.94z\"/><path d=\"M17.41 7.96l-1.37-1.37c-.4-.4-.92-.59-1.43-.59-.52 0-1.04.2-1.43.59L10.3 9.45l-7.72 7.72c-.78.78-.78 2.05 0 2.83L4 21.41c.39.39.9.59 1.41.59.51 0 1.02-.2 1.41-.59l7.78-7.78 2.81-2.81c.8-.78.8-2.07 0-2.86zM5.41 20L4 18.59l7.72-7.72 1.47 1.35L5.41 20z\"/>\n",
              "  </svg>\n",
              "      </button>\n",
              "      \n",
              "  <style>\n",
              "    .colab-df-container {\n",
              "      display:flex;\n",
              "      flex-wrap:wrap;\n",
              "      gap: 12px;\n",
              "    }\n",
              "\n",
              "    .colab-df-convert {\n",
              "      background-color: #E8F0FE;\n",
              "      border: none;\n",
              "      border-radius: 50%;\n",
              "      cursor: pointer;\n",
              "      display: none;\n",
              "      fill: #1967D2;\n",
              "      height: 32px;\n",
              "      padding: 0 0 0 0;\n",
              "      width: 32px;\n",
              "    }\n",
              "\n",
              "    .colab-df-convert:hover {\n",
              "      background-color: #E2EBFA;\n",
              "      box-shadow: 0px 1px 2px rgba(60, 64, 67, 0.3), 0px 1px 3px 1px rgba(60, 64, 67, 0.15);\n",
              "      fill: #174EA6;\n",
              "    }\n",
              "\n",
              "    [theme=dark] .colab-df-convert {\n",
              "      background-color: #3B4455;\n",
              "      fill: #D2E3FC;\n",
              "    }\n",
              "\n",
              "    [theme=dark] .colab-df-convert:hover {\n",
              "      background-color: #434B5C;\n",
              "      box-shadow: 0px 1px 3px 1px rgba(0, 0, 0, 0.15);\n",
              "      filter: drop-shadow(0px 1px 2px rgba(0, 0, 0, 0.3));\n",
              "      fill: #FFFFFF;\n",
              "    }\n",
              "  </style>\n",
              "\n",
              "      <script>\n",
              "        const buttonEl =\n",
              "          document.querySelector('#df-34890fe8-3117-4e62-b760-fbfb928c0756 button.colab-df-convert');\n",
              "        buttonEl.style.display =\n",
              "          google.colab.kernel.accessAllowed ? 'block' : 'none';\n",
              "\n",
              "        async function convertToInteractive(key) {\n",
              "          const element = document.querySelector('#df-34890fe8-3117-4e62-b760-fbfb928c0756');\n",
              "          const dataTable =\n",
              "            await google.colab.kernel.invokeFunction('convertToInteractive',\n",
              "                                                     [key], {});\n",
              "          if (!dataTable) return;\n",
              "\n",
              "          const docLinkHtml = 'Like what you see? Visit the ' +\n",
              "            '<a target=\"_blank\" href=https://colab.research.google.com/notebooks/data_table.ipynb>data table notebook</a>'\n",
              "            + ' to learn more about interactive tables.';\n",
              "          element.innerHTML = '';\n",
              "          dataTable['output_type'] = 'display_data';\n",
              "          await google.colab.output.renderOutput(dataTable, element);\n",
              "          const docLink = document.createElement('div');\n",
              "          docLink.innerHTML = docLinkHtml;\n",
              "          element.appendChild(docLink);\n",
              "        }\n",
              "      </script>\n",
              "    </div>\n",
              "  </div>\n",
              "  "
            ]
          },
          "metadata": {},
          "execution_count": 4
        }
      ]
    },
    {
      "cell_type": "code",
      "source": [
        "df.info()"
      ],
      "metadata": {
        "colab": {
          "base_uri": "https://localhost:8080/"
        },
        "id": "LAUEhMR4xfs_",
        "outputId": "d2e0589d-1120-489f-b115-0140d5c1091f"
      },
      "execution_count": null,
      "outputs": [
        {
          "output_type": "stream",
          "name": "stdout",
          "text": [
            "<class 'pandas.core.frame.DataFrame'>\n",
            "RangeIndex: 454759 entries, 0 to 454758\n",
            "Data columns (total 16 columns):\n",
            " #   Column        Non-Null Count   Dtype  \n",
            "---  ------        --------------   -----  \n",
            " 0   data_dte      454759 non-null  object \n",
            " 1   Year          454759 non-null  int64  \n",
            " 2   Month         454759 non-null  int64  \n",
            " 3   usg_apt_id    454759 non-null  int64  \n",
            " 4   usg_apt       454759 non-null  object \n",
            " 5   usg_wac       454759 non-null  int64  \n",
            " 6   fg_apt_id     454759 non-null  int64  \n",
            " 7   fg_apt        454759 non-null  object \n",
            " 8   fg_wac        454759 non-null  int64  \n",
            " 9   airlineid     454759 non-null  int64  \n",
            " 10  carrier       453290 non-null  object \n",
            " 11  carriergroup  454759 non-null  int64  \n",
            " 12  type          454759 non-null  object \n",
            " 13  Scheduled     454759 non-null  int64  \n",
            " 14  Charter       454758 non-null  float64\n",
            " 15  Total         454758 non-null  float64\n",
            "dtypes: float64(2), int64(9), object(5)\n",
            "memory usage: 55.5+ MB\n"
          ]
        }
      ]
    },
    {
      "cell_type": "code",
      "source": [
        "df.describe()"
      ],
      "metadata": {
        "colab": {
          "base_uri": "https://localhost:8080/",
          "height": 364
        },
        "id": "70UksMdpxiVy",
        "outputId": "62b213db-9f5e-4e35-f3b7-38c317fc45a1"
      },
      "execution_count": null,
      "outputs": [
        {
          "output_type": "execute_result",
          "data": {
            "text/plain": [
              "                Year          Month     usg_apt_id        usg_wac  \\\n",
              "count  454759.000000  454759.000000  454759.000000  454759.000000   \n",
              "mean     2005.245013       6.370335   12914.435296      40.763255   \n",
              "std         8.595895       3.479680    3662.596546      25.974685   \n",
              "min      1990.000000       1.000000   10010.000000       1.000000   \n",
              "25%      1998.000000       3.000000   11618.000000      22.000000   \n",
              "50%      2005.000000       6.000000   13061.000000      33.000000   \n",
              "75%      2013.000000       9.000000   13796.000000      62.000000   \n",
              "max      2020.000000      12.000000   99999.000000      93.000000   \n",
              "\n",
              "           fg_apt_id         fg_wac      airlineid   carriergroup  \\\n",
              "count  454759.000000  454759.000000  454759.000000  454759.000000   \n",
              "mean    13563.420933     457.362583   20167.665854       0.649289   \n",
              "std      1967.405845     294.298751     492.039642       0.477193   \n",
              "min     10119.000000     106.000000   19386.000000       0.000000   \n",
              "25%     11868.000000     204.000000   19821.000000       0.000000   \n",
              "50%     13602.000000     388.000000   20149.000000       1.000000   \n",
              "75%     15237.000000     736.000000   20370.000000       1.000000   \n",
              "max     16881.000000     975.000000   22067.000000       1.000000   \n",
              "\n",
              "           Scheduled        Charter          Total  \n",
              "count  454759.000000  454758.000000  454758.000000  \n",
              "mean        2.140954       3.971048       6.112005  \n",
              "std         3.730595      11.241506      11.121149  \n",
              "min         0.000000       0.000000       1.000000  \n",
              "25%         0.000000       0.000000       1.000000  \n",
              "50%         0.000000       1.000000       2.000000  \n",
              "75%         2.000000       3.000000       8.000000  \n",
              "max        16.000000    1092.000000    1092.000000  "
            ],
            "text/html": [
              "\n",
              "  <div id=\"df-28c67904-600b-470a-a6c4-3c7c1a9234bc\">\n",
              "    <div class=\"colab-df-container\">\n",
              "      <div>\n",
              "<style scoped>\n",
              "    .dataframe tbody tr th:only-of-type {\n",
              "        vertical-align: middle;\n",
              "    }\n",
              "\n",
              "    .dataframe tbody tr th {\n",
              "        vertical-align: top;\n",
              "    }\n",
              "\n",
              "    .dataframe thead th {\n",
              "        text-align: right;\n",
              "    }\n",
              "</style>\n",
              "<table border=\"1\" class=\"dataframe\">\n",
              "  <thead>\n",
              "    <tr style=\"text-align: right;\">\n",
              "      <th></th>\n",
              "      <th>Year</th>\n",
              "      <th>Month</th>\n",
              "      <th>usg_apt_id</th>\n",
              "      <th>usg_wac</th>\n",
              "      <th>fg_apt_id</th>\n",
              "      <th>fg_wac</th>\n",
              "      <th>airlineid</th>\n",
              "      <th>carriergroup</th>\n",
              "      <th>Scheduled</th>\n",
              "      <th>Charter</th>\n",
              "      <th>Total</th>\n",
              "    </tr>\n",
              "  </thead>\n",
              "  <tbody>\n",
              "    <tr>\n",
              "      <th>count</th>\n",
              "      <td>454759.000000</td>\n",
              "      <td>454759.000000</td>\n",
              "      <td>454759.000000</td>\n",
              "      <td>454759.000000</td>\n",
              "      <td>454759.000000</td>\n",
              "      <td>454759.000000</td>\n",
              "      <td>454759.000000</td>\n",
              "      <td>454759.000000</td>\n",
              "      <td>454759.000000</td>\n",
              "      <td>454758.000000</td>\n",
              "      <td>454758.000000</td>\n",
              "    </tr>\n",
              "    <tr>\n",
              "      <th>mean</th>\n",
              "      <td>2005.245013</td>\n",
              "      <td>6.370335</td>\n",
              "      <td>12914.435296</td>\n",
              "      <td>40.763255</td>\n",
              "      <td>13563.420933</td>\n",
              "      <td>457.362583</td>\n",
              "      <td>20167.665854</td>\n",
              "      <td>0.649289</td>\n",
              "      <td>2.140954</td>\n",
              "      <td>3.971048</td>\n",
              "      <td>6.112005</td>\n",
              "    </tr>\n",
              "    <tr>\n",
              "      <th>std</th>\n",
              "      <td>8.595895</td>\n",
              "      <td>3.479680</td>\n",
              "      <td>3662.596546</td>\n",
              "      <td>25.974685</td>\n",
              "      <td>1967.405845</td>\n",
              "      <td>294.298751</td>\n",
              "      <td>492.039642</td>\n",
              "      <td>0.477193</td>\n",
              "      <td>3.730595</td>\n",
              "      <td>11.241506</td>\n",
              "      <td>11.121149</td>\n",
              "    </tr>\n",
              "    <tr>\n",
              "      <th>min</th>\n",
              "      <td>1990.000000</td>\n",
              "      <td>1.000000</td>\n",
              "      <td>10010.000000</td>\n",
              "      <td>1.000000</td>\n",
              "      <td>10119.000000</td>\n",
              "      <td>106.000000</td>\n",
              "      <td>19386.000000</td>\n",
              "      <td>0.000000</td>\n",
              "      <td>0.000000</td>\n",
              "      <td>0.000000</td>\n",
              "      <td>1.000000</td>\n",
              "    </tr>\n",
              "    <tr>\n",
              "      <th>25%</th>\n",
              "      <td>1998.000000</td>\n",
              "      <td>3.000000</td>\n",
              "      <td>11618.000000</td>\n",
              "      <td>22.000000</td>\n",
              "      <td>11868.000000</td>\n",
              "      <td>204.000000</td>\n",
              "      <td>19821.000000</td>\n",
              "      <td>0.000000</td>\n",
              "      <td>0.000000</td>\n",
              "      <td>0.000000</td>\n",
              "      <td>1.000000</td>\n",
              "    </tr>\n",
              "    <tr>\n",
              "      <th>50%</th>\n",
              "      <td>2005.000000</td>\n",
              "      <td>6.000000</td>\n",
              "      <td>13061.000000</td>\n",
              "      <td>33.000000</td>\n",
              "      <td>13602.000000</td>\n",
              "      <td>388.000000</td>\n",
              "      <td>20149.000000</td>\n",
              "      <td>1.000000</td>\n",
              "      <td>0.000000</td>\n",
              "      <td>1.000000</td>\n",
              "      <td>2.000000</td>\n",
              "    </tr>\n",
              "    <tr>\n",
              "      <th>75%</th>\n",
              "      <td>2013.000000</td>\n",
              "      <td>9.000000</td>\n",
              "      <td>13796.000000</td>\n",
              "      <td>62.000000</td>\n",
              "      <td>15237.000000</td>\n",
              "      <td>736.000000</td>\n",
              "      <td>20370.000000</td>\n",
              "      <td>1.000000</td>\n",
              "      <td>2.000000</td>\n",
              "      <td>3.000000</td>\n",
              "      <td>8.000000</td>\n",
              "    </tr>\n",
              "    <tr>\n",
              "      <th>max</th>\n",
              "      <td>2020.000000</td>\n",
              "      <td>12.000000</td>\n",
              "      <td>99999.000000</td>\n",
              "      <td>93.000000</td>\n",
              "      <td>16881.000000</td>\n",
              "      <td>975.000000</td>\n",
              "      <td>22067.000000</td>\n",
              "      <td>1.000000</td>\n",
              "      <td>16.000000</td>\n",
              "      <td>1092.000000</td>\n",
              "      <td>1092.000000</td>\n",
              "    </tr>\n",
              "  </tbody>\n",
              "</table>\n",
              "</div>\n",
              "      <button class=\"colab-df-convert\" onclick=\"convertToInteractive('df-28c67904-600b-470a-a6c4-3c7c1a9234bc')\"\n",
              "              title=\"Convert this dataframe to an interactive table.\"\n",
              "              style=\"display:none;\">\n",
              "        \n",
              "  <svg xmlns=\"http://www.w3.org/2000/svg\" height=\"24px\"viewBox=\"0 0 24 24\"\n",
              "       width=\"24px\">\n",
              "    <path d=\"M0 0h24v24H0V0z\" fill=\"none\"/>\n",
              "    <path d=\"M18.56 5.44l.94 2.06.94-2.06 2.06-.94-2.06-.94-.94-2.06-.94 2.06-2.06.94zm-11 1L8.5 8.5l.94-2.06 2.06-.94-2.06-.94L8.5 2.5l-.94 2.06-2.06.94zm10 10l.94 2.06.94-2.06 2.06-.94-2.06-.94-.94-2.06-.94 2.06-2.06.94z\"/><path d=\"M17.41 7.96l-1.37-1.37c-.4-.4-.92-.59-1.43-.59-.52 0-1.04.2-1.43.59L10.3 9.45l-7.72 7.72c-.78.78-.78 2.05 0 2.83L4 21.41c.39.39.9.59 1.41.59.51 0 1.02-.2 1.41-.59l7.78-7.78 2.81-2.81c.8-.78.8-2.07 0-2.86zM5.41 20L4 18.59l7.72-7.72 1.47 1.35L5.41 20z\"/>\n",
              "  </svg>\n",
              "      </button>\n",
              "      \n",
              "  <style>\n",
              "    .colab-df-container {\n",
              "      display:flex;\n",
              "      flex-wrap:wrap;\n",
              "      gap: 12px;\n",
              "    }\n",
              "\n",
              "    .colab-df-convert {\n",
              "      background-color: #E8F0FE;\n",
              "      border: none;\n",
              "      border-radius: 50%;\n",
              "      cursor: pointer;\n",
              "      display: none;\n",
              "      fill: #1967D2;\n",
              "      height: 32px;\n",
              "      padding: 0 0 0 0;\n",
              "      width: 32px;\n",
              "    }\n",
              "\n",
              "    .colab-df-convert:hover {\n",
              "      background-color: #E2EBFA;\n",
              "      box-shadow: 0px 1px 2px rgba(60, 64, 67, 0.3), 0px 1px 3px 1px rgba(60, 64, 67, 0.15);\n",
              "      fill: #174EA6;\n",
              "    }\n",
              "\n",
              "    [theme=dark] .colab-df-convert {\n",
              "      background-color: #3B4455;\n",
              "      fill: #D2E3FC;\n",
              "    }\n",
              "\n",
              "    [theme=dark] .colab-df-convert:hover {\n",
              "      background-color: #434B5C;\n",
              "      box-shadow: 0px 1px 3px 1px rgba(0, 0, 0, 0.15);\n",
              "      filter: drop-shadow(0px 1px 2px rgba(0, 0, 0, 0.3));\n",
              "      fill: #FFFFFF;\n",
              "    }\n",
              "  </style>\n",
              "\n",
              "      <script>\n",
              "        const buttonEl =\n",
              "          document.querySelector('#df-28c67904-600b-470a-a6c4-3c7c1a9234bc button.colab-df-convert');\n",
              "        buttonEl.style.display =\n",
              "          google.colab.kernel.accessAllowed ? 'block' : 'none';\n",
              "\n",
              "        async function convertToInteractive(key) {\n",
              "          const element = document.querySelector('#df-28c67904-600b-470a-a6c4-3c7c1a9234bc');\n",
              "          const dataTable =\n",
              "            await google.colab.kernel.invokeFunction('convertToInteractive',\n",
              "                                                     [key], {});\n",
              "          if (!dataTable) return;\n",
              "\n",
              "          const docLinkHtml = 'Like what you see? Visit the ' +\n",
              "            '<a target=\"_blank\" href=https://colab.research.google.com/notebooks/data_table.ipynb>data table notebook</a>'\n",
              "            + ' to learn more about interactive tables.';\n",
              "          element.innerHTML = '';\n",
              "          dataTable['output_type'] = 'display_data';\n",
              "          await google.colab.output.renderOutput(dataTable, element);\n",
              "          const docLink = document.createElement('div');\n",
              "          docLink.innerHTML = docLinkHtml;\n",
              "          element.appendChild(docLink);\n",
              "        }\n",
              "      </script>\n",
              "    </div>\n",
              "  </div>\n",
              "  "
            ]
          },
          "metadata": {},
          "execution_count": 5
        }
      ]
    },
    {
      "cell_type": "code",
      "source": [
        "df.shape"
      ],
      "metadata": {
        "colab": {
          "base_uri": "https://localhost:8080/"
        },
        "id": "WR72qtm0xlDF",
        "outputId": "bfd37f94-fb98-4afb-ad59-d9e5c3b9722e"
      },
      "execution_count": null,
      "outputs": [
        {
          "output_type": "execute_result",
          "data": {
            "text/plain": [
              "(454759, 16)"
            ]
          },
          "metadata": {},
          "execution_count": 6
        }
      ]
    },
    {
      "cell_type": "code",
      "source": [
        "df.airlineid.unique()"
      ],
      "metadata": {
        "colab": {
          "base_uri": "https://localhost:8080/"
        },
        "id": "NziN8qHbxnA9",
        "outputId": "ba197c98-e2a7-4534-e54b-5d42c6bead57"
      },
      "execution_count": null,
      "outputs": [
        {
          "output_type": "execute_result",
          "data": {
            "text/plain": [
              "array([20177, 20007, 20402, 20201, 21323, 20444, 19531, 20423, 20166,\n",
              "       19534, 20169, 20312, 20095, 20057, 20415, 21131, 20147, 20110,\n",
              "       20401, 20370, 19554, 20190, 21069, 21074, 20421, 20207, 20447,\n",
              "       20305, 21437, 20193, 20149, 21294, 19548, 20453, 20107, 20335,\n",
              "       20381, 20387, 20344, 20179, 20400, 20204, 20140, 20213, 20017,\n",
              "       20278, 20232, 20399, 19790, 19550, 21160, 20428, 20303, 20293,\n",
              "       20406, 20334, 20313, 20214, 19856, 20377, 20239, 19874, 19559,\n",
              "       21352, 21008, 20284, 20016, 20266, 20148, 20375, 20372, 21281,\n",
              "       20308, 20100, 20422, 20368, 20203, 21186, 19704, 20065, 19985,\n",
              "       20364, 20414, 20351, 20310, 19386, 20374, 20357, 20189, 21094,\n",
              "       19898, 20379, 21080, 21148, 19869, 19546, 19917, 21061, 19805,\n",
              "       20120, 19998, 19977, 20272, 20185, 20156, 19540, 19545, 20405,\n",
              "       20359, 21373, 19858, 20373, 20437, 21309, 21202, 20360, 21161,\n",
              "       19991, 20345, 20314, 21007, 21035, 21212, 21226, 20281, 20222,\n",
              "       21236, 21402, 20093, 20106, 20383, 20194, 21134, 20210, 19532,\n",
              "       20317, 20154, 21439, 20502, 19538, 21306, 20331, 20436, 21248,\n",
              "       19567, 19930, 19855, 21196, 19528, 20250, 20089, 20382, 20218,\n",
              "       21421, 19658, 19976, 20302, 20234, 20221, 20394, 20320, 20151,\n",
              "       19690, 20450, 19624, 21136, 20311, 21407, 21331, 21346, 21059,\n",
              "       21308, 20136, 21158, 20133, 19620, 20108, 20299, 20380, 21487,\n",
              "       21302, 20326, 19556, 20119, 21147, 20416, 21512, 21247, 20388,\n",
              "       20390, 21569, 20391, 20449, 20030, 20225, 20396, 19852, 19557,\n",
              "       20327, 19678, 19574, 20417, 21440, 19961, 20338, 20346, 21406,\n",
              "       21447, 20408, 21040, 20409, 21438, 21317, 20398, 20355, 21221,\n",
              "       21181, 20443, 19830, 20231, 19912, 21423, 20285, 21351, 20200,\n",
              "       21111, 19623, 20349, 20366, 19579, 20339, 19958, 20342, 21271,\n",
              "       19539, 20333, 20451, 19553, 21258, 20116, 20032, 21342, 19635,\n",
              "       20340, 20336, 21452, 21171, 21590, 20452, 21231, 19543, 21562,\n",
              "       21573, 21549, 21492, 19568, 21656, 21552, 21548, 21107, 19682,\n",
              "       19393, 21477, 20226, 21597, 21503, 21366, 20363, 20418, 21518,\n",
              "       19392, 19983, 20102, 20425, 19892, 20006, 20099, 20088, 20050,\n",
              "       19789, 20150, 20191, 19952, 20173, 20024, 19523, 20123, 20044,\n",
              "       19614, 20029, 20019, 20146, 20042, 20292, 20371, 19812, 20129,\n",
              "       19993, 20412, 20028, 19685, 20143, 20034, 19865, 19909, 19972,\n",
              "       19950, 20022, 20097, 19799, 19954, 19677, 19829, 19940, 20074,\n",
              "       19728, 19698, 20296, 19897, 20125, 20128, 19969, 20216, 19791,\n",
              "       19840, 19745, 19576, 20446, 19513, 20456, 19860, 20283, 19684,\n",
              "       19512, 20079, 19981, 19549, 20438, 19670, 19707, 19506, 19891,\n",
              "       20073, 19555, 20384, 19511, 20127, 19956, 19627, 20205, 20020,\n",
              "       19505, 20420, 20195, 20025, 20211, 19911, 20103, 20134, 19949,\n",
              "       20027, 19984, 19973, 19867, 19902, 19560, 19910, 20263, 19662,\n",
              "       20001, 20138, 20117, 19932, 19821, 19931, 19793, 20152, 20163,\n",
              "       19566, 20105, 19942, 19885, 19514, 20161, 19573, 19895, 20096,\n",
              "       19890, 19883, 19647, 20026, 20090, 19806, 20002, 20109, 19884,\n",
              "       20111, 19941, 19552, 19824, 19887, 19771, 19963, 20071, 20000,\n",
              "       19928, 19927, 19899, 19610, 20066, 19914, 19518, 19526, 20184,\n",
              "       20235, 20145, 20023, 19508, 19955, 20178, 19535, 19521, 19571,\n",
              "       20052, 19580, 19529, 19572, 19896, 20003, 19894, 19515, 20167,\n",
              "       21615, 21601, 21635, 21631, 21568, 21735, 21629, 21646, 21645,\n",
              "       21650, 21649, 21693, 21630, 21651, 21760, 20354, 21652, 21764,\n",
              "       21814, 20233, 20224, 21733, 21659, 21395, 21638, 21889, 21738,\n",
              "       21610, 21869, 20280, 21995, 21743, 21954, 21854, 21919, 22035,\n",
              "       22025, 21780, 21594, 21875, 21657, 20337, 22020, 21974, 22010,\n",
              "       22052, 22016, 22057, 22061, 22062, 21894, 22048, 21580, 20378,\n",
              "       19537, 20229, 19547, 19779, 19551, 20397, 19558, 21084, 21611,\n",
              "       20046, 21376, 21924, 20304, 20393, 20448, 20206, 20455, 19542,\n",
              "       20427, 20277, 19875, 21605, 20348, 20442, 19687, 20043, 20237,\n",
              "       21579, 21624, 21167, 19563, 19564, 21326, 20392, 20500, 19953,\n",
              "       20404, 19770, 21070, 21427, 21463, 21416, 21694, 20286, 20445,\n",
              "       20254, 20188, 20208, 20440, 19577, 20170, 21192, 20114, 21507,\n",
              "       20142, 21126, 19561, 20085, 19520, 21985, 21823, 20010, 21667,\n",
              "       21607, 19575, 21939, 19510, 20162, 19616, 20144, 20056, 19889,\n",
              "       19795, 19933, 21749, 20124, 20015, 19570, 19808, 19544, 21266,\n",
              "       20298, 20291, 19522, 20362, 19533, 19569, 20268, 19562, 20258,\n",
              "       21712, 19862, 19893, 21361, 19886, 20265, 19994, 21672, 21411,\n",
              "       20269, 21578, 19519, 20064, 20251, 19995, 19996, 19541, 20182,\n",
              "       20294, 20330, 20075, 22001, 19900, 20386, 20186, 20155, 21969,\n",
              "       21592, 19565, 19778, 19747, 21587, 19804, 20341, 19992, 21356,\n",
              "       21528, 20005, 20104, 19839, 20175, 20253, 19975, 21567, 21608,\n",
              "       21598, 21728, 20080, 20045, 21707, 21261, 20121, 21821, 21770,\n",
              "       20091, 21574, 19527, 20209, 20059, 20077, 22067, 20309, 21626,\n",
              "       21860, 20319, 21117, 21434, 21121, 19873, 20055, 22036, 21557,\n",
              "       21785, 21674, 19982, 21433, 19524, 20183, 20419, 19746, 21262,\n",
              "       20297, 19536, 20290, 21692, 21386, 21949, 20389, 20196, 19863,\n",
              "       20230, 19671, 21670, 19916, 19517, 20227, 19509, 19851, 22030,\n",
              "       19516, 20350, 19530, 20053, 19650, 21944, 21774, 20282, 20153,\n",
              "       20018, 21116, 22002])"
            ]
          },
          "metadata": {},
          "execution_count": 8
        }
      ]
    },
    {
      "cell_type": "code",
      "source": [
        "df.isnull().sum()"
      ],
      "metadata": {
        "colab": {
          "base_uri": "https://localhost:8080/"
        },
        "id": "vl0aO19mx5Cu",
        "outputId": "f030b3c2-1287-4934-aa44-24cef09229ad"
      },
      "execution_count": null,
      "outputs": [
        {
          "output_type": "execute_result",
          "data": {
            "text/plain": [
              "data_dte           0\n",
              "Year               0\n",
              "Month              0\n",
              "usg_apt_id         0\n",
              "usg_apt            0\n",
              "usg_wac            0\n",
              "fg_apt_id          0\n",
              "fg_apt             0\n",
              "fg_wac             0\n",
              "airlineid          0\n",
              "carrier         1469\n",
              "carriergroup       0\n",
              "type               0\n",
              "Scheduled          0\n",
              "Charter            1\n",
              "Total              1\n",
              "dtype: int64"
            ]
          },
          "metadata": {},
          "execution_count": 10
        }
      ]
    },
    {
      "cell_type": "markdown",
      "source": [
        "Scatter Plot\n"
      ],
      "metadata": {
        "id": "A-vtzewGyXmE"
      }
    },
    {
      "cell_type": "code",
      "source": [
        "plt.scatter(df.usg_wac,df.fg_wac)\n",
        "plt.xlabel(\"USG_WAC\")\n",
        "plt.ylabel(\"FG_WAC\")\n",
        "plt.show()"
      ],
      "metadata": {
        "colab": {
          "base_uri": "https://localhost:8080/",
          "height": 280
        },
        "id": "ZNsw_IPcyC5I",
        "outputId": "080df2fc-93b1-492e-b026-365dc62202ca"
      },
      "execution_count": null,
      "outputs": [
        {
          "output_type": "display_data",
          "data": {
            "text/plain": [
              "<Figure size 432x288 with 1 Axes>"
            ],
            "image/png": "[encoded data removed]"
          },
          "metadata": {
            "needs_background": "light"
          }
        }
      ]
    },
    {
      "cell_type": "markdown",
      "source": [
        "Bar chart"
      ],
      "metadata": {
        "id": "eqqyioxwzjSc"
      }
    },
    {
      "cell_type": "code",
      "source": [
        "plt.bar(df.usg_wac,df.Total)\n",
        "plt.xlabel(\"USG_WAC\")\n",
        "plt.ylabel(\"Total\")\n",
        "plt.title('Bar Chart',color='red')\n",
        "plt.show()"
      ],
      "metadata": {
        "colab": {
          "base_uri": "https://localhost:8080/",
          "height": 296
        },
        "id": "ivKfWUV9y4t_",
        "outputId": "80d06780-5f37-470d-bd36-60404a2eaf9f"
      },
      "execution_count": 9,
      "outputs": [
        {
          "output_type": "display_data",
          "data": {
            "text/plain": [
              "<Figure size 432x288 with 1 Axes>"
            ],
            "image/png": "[encoded data removed]"
          },
          "metadata": {
            "needs_background": "light"
          }
        }
      ]
    },
    {
      "cell_type": "markdown",
      "source": [
        "Pie Chart"
      ],
      "metadata": {
        "id": "jGkM0ndNgM1i"
      }
    },
    {
      "cell_type": "code",
      "source": [
        "plt.pie(df.Total)\n",
        "plt.show()"
      ],
      "metadata": {
        "colab": {
          "base_uri": "https://localhost:8080/",
          "height": 248
        },
        "id": "GqNWe_Qoz5Zk",
        "outputId": "4f4a20f4-e74d-4047-82b7-cee87fd06632"
      },
      "execution_count": null,
      "outputs": [
        {
          "output_type": "display_data",
          "data": {
            "text/plain": [
              "<Figure size 432x288 with 1 Axes>"
            ],
            "image/png": "[encoded data removed]"
          },
          "metadata": {}
        }
      ]
    },
    {
      "cell_type": "markdown",
      "source": [
        "Histogram"
      ],
      "metadata": {
        "id": "YR4VKOebhWMk"
      }
    },
    {
      "cell_type": "code",
      "source": [
        "plt.hist(df.Month)\n",
        "plt.title(\"HISTOGRAM\",color=\"green\")\n",
        "plt.show()"
      ],
      "metadata": {
        "id": "BCcYz1rV2Fyq",
        "colab": {
          "base_uri": "https://localhost:8080/",
          "height": 281
        },
        "outputId": "73f5b3ef-8fd8-43ab-c65d-045fccbf87ae"
      },
      "execution_count": 8,
      "outputs": [
        {
          "output_type": "display_data",
          "data": {
            "text/plain": [
              "<Figure size 432x288 with 1 Axes>"
            ],
            "image/png": "[encoded data removed]"
          },
          "metadata": {
            "needs_background": "light"
          }
        }
      ]
    },
    {
      "cell_type": "code",
      "source": [
        "plt.stem(df.Month)\n",
        "plt.title(\"LOLLIPOP CHART\",color=\"brown\")\n",
        "plt.show()"
      ],
      "metadata": {
        "colab": {
          "base_uri": "https://localhost:8080/",
          "height": 336
        },
        "id": "Y_W5rZ0jgehn",
        "outputId": "cc9a0a41-0ccc-4fcc-e122-bbeb8d426624"
      },
      "execution_count": 10,
      "outputs": [
        {
          "output_type": "stream",
          "name": "stderr",
          "text": [
            "/usr/local/lib/python3.7/dist-packages/ipykernel_launcher.py:1: UserWarning: In Matplotlib 3.3 individual lines on a stem plot will be added as a LineCollection instead of individual lines. This significantly improves the performance of a stem plot. To remove this warning and switch to the new behaviour, set the \"use_line_collection\" keyword argument to True.\n",
            "  \"\"\"Entry point for launching an IPython kernel.\n"
          ]
        },
        {
          "output_type": "display_data",
          "data": {
            "text/plain": [
              "<Figure size 432x288 with 1 Axes>"
            ],
            "image/png": "[encoded data removed]"
          },
          "metadata": {
            "needs_background": "light"
          }
        }
      ]
    },
    {
      "cell_type": "code",
      "source": [
        "plt.fill_between(df.usg_wac,df.Total)\n",
        "plt.title(\"AREA CHART\",color=\"teal\")\n",
        "plt.show()"
      ],
      "metadata": {
        "colab": {
          "base_uri": "https://localhost:8080/",
          "height": 281
        },
        "id": "50jOM3frjO60",
        "outputId": "de8a8ea4-df6a-41f6-bc13-03bd393e4d51"
      },
      "execution_count": 11,
      "outputs": [
        {
          "output_type": "display_data",
          "data": {
            "text/plain": [
              "<Figure size 432x288 with 1 Axes>"
            ],
            "image/png": "[encoded data removed]"
          },
          "metadata": {
            "needs_background": "light"
          }
        }
      ]
    }
  ]
}